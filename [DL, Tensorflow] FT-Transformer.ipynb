{
 "cells": [
  {
   "cell_type": "markdown",
   "metadata": {},
   "source": [
    "Tensorflow Keras 기반 FT-Transformer 활용"
   ]
  },
  {
   "cell_type": "code",
   "execution_count": 3,
   "metadata": {
    "id": "3DNAA-WJmMy0"
   },
   "outputs": [],
   "source": [
    "'''\n",
    "pip install tabtransformertf\n",
    "pip install tensorflow-addons\n",
    "pip install category_encoders\n",
    "'''\n",
    "import pandas as pd\n",
    "import numpy as np\n",
    "import matplotlib.pyplot as plt\n",
    "import seaborn as sns\n",
    "from sklearn.model_selection import train_test_split, KFold, StratifiedKFold, cross_val_score, GridSearchCV\n",
    "from sklearn.metrics import accuracy_score\n",
    "from sklearn.preprocessing import StandardScaler\n",
    "import tensorflow as tf\n",
    "import tensorflow_addons as tfa\n",
    "from tabtransformertf.utils.preprocessing import df_to_dataset, build_categorical_prep\n",
    "from tabtransformertf.models.fttransformer import FTTransformerEncoder, FTTransformer\n",
    "from scipy.stats import skew\n",
    "import gc\n",
    "import time\n",
    "from tqdm import tqdm\n",
    "from preprocessing import ct_df_ver05, ct_df_ver0\n",
    "from lossfunction import rmse, mse, mae, mape, r_squared, adjusted_r_squared\n",
    "import torch\n",
    "from IPython.display import clear_output\n",
    "clear_output()\n"
   ]
  },
  {
   "cell_type": "code",
   "execution_count": 4,
   "metadata": {
    "colab": {
     "base_uri": "https://localhost:8080/"
    },
    "executionInfo": {
     "elapsed": 8,
     "status": "ok",
     "timestamp": 1694058070821,
     "user": {
      "displayName": "송범석",
      "userId": "02098131546815367973"
     },
     "user_tz": -540
    },
    "id": "f8yFE27oEABP",
    "outputId": "84df5947-d626-4e3e-8368-f8aa9d78028c"
   },
   "outputs": [
    {
     "name": "stdout",
     "output_type": "stream",
     "text": [
      "(3924, 58)\n"
     ]
    }
   ],
   "source": [
    "print(ct_df_ver0.shape)"
   ]
  },
  {
   "cell_type": "code",
   "execution_count": 5,
   "metadata": {
    "colab": {
     "base_uri": "https://localhost:8080/"
    },
    "executionInfo": {
     "elapsed": 6,
     "status": "ok",
     "timestamp": 1694058070822,
     "user": {
      "displayName": "송범석",
      "userId": "02098131546815367973"
     },
     "user_tz": -540
    },
    "id": "ZjfJLtCxH81e",
    "outputId": "6bfe1944-c221-416d-ce9f-b848806d8066"
   },
   "outputs": [
    {
     "name": "stdout",
     "output_type": "stream",
     "text": [
      "categorical_list 15: ['DR', 'PROCESS_ID', 'PART_ID', 'LOTTYPE', 'HOLD_FLAG', 'FLOORID', 'LOT_PURPOSE', 'ROOM', 'PROCESS_GROUP', 'LAYER_TITLE', 'LAYER_GROUP', 'BLOCK_GROUP', 'EQPTYPE', 'BATCH', 'SHIFT_TYPE']\n",
      "numerical_list 42: ['QTY', 'GRADE', 'COMPLETE_RATE', 'DUE_DATE', 'WIPTURN', 'MOVE_0', 'EQP_WORKLOAD_0', 'MOVE_1', 'EQP_WORKLOAD_1', 'MOVE_2', 'EQP_WORKLOAD_2', 'Q_E', 'Q_P', 'L_E', 'L_P', 'Q_H', 'Q_R', 'Q_W', 'L_H', 'L_R', 'L_W', 'Q_2', 'Q_3', 'Q_4', 'Q_5', 'Q_7', 'Q_8', 'Q_10', 'L_2', 'L_3', 'L_4', 'L_5', 'L_7', 'L_8', 'L_10', 'WIP_WAITTIME', 'WIP_PRODUCT_NUM', 'PROCESSTIME', 'PRC_WAIT_MIN', 'PRC_WAIT_MAX', 'PRC_WAIT_MEDIAN', 'PRC_WAIT_STD']\n",
      "feature_list 57: ['DR', 'PROCESS_ID', 'PART_ID', 'LOTTYPE', 'HOLD_FLAG', 'FLOORID', 'LOT_PURPOSE', 'ROOM', 'PROCESS_GROUP', 'LAYER_TITLE', 'LAYER_GROUP', 'BLOCK_GROUP', 'EQPTYPE', 'BATCH', 'SHIFT_TYPE', 'QTY', 'GRADE', 'COMPLETE_RATE', 'DUE_DATE', 'WIPTURN', 'MOVE_0', 'EQP_WORKLOAD_0', 'MOVE_1', 'EQP_WORKLOAD_1', 'MOVE_2', 'EQP_WORKLOAD_2', 'Q_E', 'Q_P', 'L_E', 'L_P', 'Q_H', 'Q_R', 'Q_W', 'L_H', 'L_R', 'L_W', 'Q_2', 'Q_3', 'Q_4', 'Q_5', 'Q_7', 'Q_8', 'Q_10', 'L_2', 'L_3', 'L_4', 'L_5', 'L_7', 'L_8', 'L_10', 'WIP_WAITTIME', 'WIP_PRODUCT_NUM', 'PROCESSTIME', 'PRC_WAIT_MIN', 'PRC_WAIT_MAX', 'PRC_WAIT_MEDIAN', 'PRC_WAIT_STD']\n"
     ]
    }
   ],
   "source": [
    "# 숫자형, 범주형 피쳐 리스트 생성\n",
    "categorical_list=[]\n",
    "numerical_list=[]\n",
    "target ='WAITTIME'\n",
    "\n",
    "for i in ct_df_ver0.columns :\n",
    "  if ct_df_ver0[i].dtypes == 'O' :\n",
    "    categorical_list.append(i)\n",
    "  else :\n",
    "    numerical_list.append(i)\n",
    "\n",
    "numerical_list.remove('WAITTIME')\n",
    "feature_list = categorical_list + numerical_list\n",
    "\n",
    "print(\"categorical_list {}:\".format(len(categorical_list)), categorical_list)\n",
    "print(\"numerical_list {}:\".format(len(numerical_list)), numerical_list)\n",
    "print(\"feature_list {}:\".format(len(feature_list)), feature_list)"
   ]
  },
  {
   "cell_type": "code",
   "execution_count": 6,
   "metadata": {
    "id": "Vfxs7LKoIBHO"
   },
   "outputs": [],
   "source": [
    "scaler = StandardScaler()\n",
    "scaler.fit(ct_df_ver0[numerical_list])  # +[target]\n",
    "ct_df_ver0[numerical_list] = scaler.transform(ct_df_ver0[numerical_list])"
   ]
  },
  {
   "cell_type": "code",
   "execution_count": 7,
   "metadata": {
    "colab": {
     "base_uri": "https://localhost:8080/",
     "height": 163
    },
    "executionInfo": {
     "elapsed": 7,
     "status": "ok",
     "timestamp": 1694058072477,
     "user": {
      "displayName": "송범석",
      "userId": "02098131546815367973"
     },
     "user_tz": -540
    },
    "id": "h8Z_77EYQ2MP",
    "outputId": "2fef432d-73ad-443a-b764-7551300ad0de"
   },
   "outputs": [
    {
     "data": {
      "text/html": [
       "<div>\n",
       "<style scoped>\n",
       "    .dataframe tbody tr th:only-of-type {\n",
       "        vertical-align: middle;\n",
       "    }\n",
       "\n",
       "    .dataframe tbody tr th {\n",
       "        vertical-align: top;\n",
       "    }\n",
       "\n",
       "    .dataframe thead th {\n",
       "        text-align: right;\n",
       "    }\n",
       "</style>\n",
       "<table border=\"1\" class=\"dataframe\">\n",
       "  <thead>\n",
       "    <tr style=\"text-align: right;\">\n",
       "      <th></th>\n",
       "      <th>DR</th>\n",
       "      <th>PROCESS_ID</th>\n",
       "      <th>PART_ID</th>\n",
       "      <th>LOTTYPE</th>\n",
       "      <th>QTY</th>\n",
       "      <th>HOLD_FLAG</th>\n",
       "      <th>FLOORID</th>\n",
       "      <th>GRADE</th>\n",
       "      <th>COMPLETE_RATE</th>\n",
       "      <th>LOT_PURPOSE</th>\n",
       "      <th>DUE_DATE</th>\n",
       "      <th>WIPTURN</th>\n",
       "      <th>ROOM</th>\n",
       "      <th>PROCESS_GROUP</th>\n",
       "      <th>LAYER_TITLE</th>\n",
       "      <th>LAYER_GROUP</th>\n",
       "      <th>BLOCK_GROUP</th>\n",
       "      <th>EQPTYPE</th>\n",
       "      <th>MOVE_0</th>\n",
       "      <th>EQP_WORKLOAD_0</th>\n",
       "      <th>MOVE_1</th>\n",
       "      <th>EQP_WORKLOAD_1</th>\n",
       "      <th>MOVE_2</th>\n",
       "      <th>EQP_WORKLOAD_2</th>\n",
       "      <th>BATCH</th>\n",
       "      <th>Q_E</th>\n",
       "      <th>Q_P</th>\n",
       "      <th>L_E</th>\n",
       "      <th>L_P</th>\n",
       "      <th>Q_H</th>\n",
       "      <th>Q_R</th>\n",
       "      <th>Q_W</th>\n",
       "      <th>L_H</th>\n",
       "      <th>L_R</th>\n",
       "      <th>L_W</th>\n",
       "      <th>Q_2</th>\n",
       "      <th>Q_3</th>\n",
       "      <th>Q_4</th>\n",
       "      <th>Q_5</th>\n",
       "      <th>Q_7</th>\n",
       "      <th>Q_8</th>\n",
       "      <th>Q_10</th>\n",
       "      <th>L_2</th>\n",
       "      <th>L_3</th>\n",
       "      <th>L_4</th>\n",
       "      <th>L_5</th>\n",
       "      <th>L_7</th>\n",
       "      <th>L_8</th>\n",
       "      <th>L_10</th>\n",
       "      <th>WIP_WAITTIME</th>\n",
       "      <th>WIP_PRODUCT_NUM</th>\n",
       "      <th>SHIFT_TYPE</th>\n",
       "      <th>PROCESSTIME</th>\n",
       "      <th>PRC_WAIT_MIN</th>\n",
       "      <th>PRC_WAIT_MAX</th>\n",
       "      <th>PRC_WAIT_MEDIAN</th>\n",
       "      <th>PRC_WAIT_STD</th>\n",
       "      <th>WAITTIME</th>\n",
       "    </tr>\n",
       "  </thead>\n",
       "  <tbody>\n",
       "    <tr>\n",
       "      <th>0</th>\n",
       "      <td>N4</td>\n",
       "      <td>BU</td>\n",
       "      <td>5P9865A02</td>\n",
       "      <td>PT</td>\n",
       "      <td>-1.577962</td>\n",
       "      <td>Y</td>\n",
       "      <td>S3</td>\n",
       "      <td>0.736054</td>\n",
       "      <td>0.527445</td>\n",
       "      <td>J</td>\n",
       "      <td>1.099325</td>\n",
       "      <td>-0.856079</td>\n",
       "      <td>PH</td>\n",
       "      <td>COATER_HSOH</td>\n",
       "      <td>L1</td>\n",
       "      <td>LG61</td>\n",
       "      <td>PU6</td>\n",
       "      <td>PARCCO</td>\n",
       "      <td>1.276886</td>\n",
       "      <td>-0.494027</td>\n",
       "      <td>1.641524</td>\n",
       "      <td>-0.474995</td>\n",
       "      <td>1.220223</td>\n",
       "      <td>-0.484387</td>\n",
       "      <td>N</td>\n",
       "      <td>0.241002</td>\n",
       "      <td>0.161233</td>\n",
       "      <td>1.593954</td>\n",
       "      <td>0.475556</td>\n",
       "      <td>0.647401</td>\n",
       "      <td>0.005643</td>\n",
       "      <td>-0.050758</td>\n",
       "      <td>1.813664</td>\n",
       "      <td>-0.118112</td>\n",
       "      <td>0.574254</td>\n",
       "      <td>-0.053185</td>\n",
       "      <td>0.038477</td>\n",
       "      <td>0.643172</td>\n",
       "      <td>0.004940</td>\n",
       "      <td>-0.072815</td>\n",
       "      <td>-0.229220</td>\n",
       "      <td>-0.165141</td>\n",
       "      <td>1.118177</td>\n",
       "      <td>1.043080</td>\n",
       "      <td>1.195202</td>\n",
       "      <td>0.53023</td>\n",
       "      <td>0.643033</td>\n",
       "      <td>0.821861</td>\n",
       "      <td>-0.168234</td>\n",
       "      <td>0.386017</td>\n",
       "      <td>1.885220</td>\n",
       "      <td>WG</td>\n",
       "      <td>-0.863148</td>\n",
       "      <td>-0.593284</td>\n",
       "      <td>1.440316</td>\n",
       "      <td>-0.367086</td>\n",
       "      <td>-0.164851</td>\n",
       "      <td>107.33</td>\n",
       "    </tr>\n",
       "    <tr>\n",
       "      <th>1</th>\n",
       "      <td>N4</td>\n",
       "      <td>BU</td>\n",
       "      <td>5P9865A02</td>\n",
       "      <td>PT</td>\n",
       "      <td>0.599387</td>\n",
       "      <td>Y</td>\n",
       "      <td>S3</td>\n",
       "      <td>-1.758140</td>\n",
       "      <td>1.433237</td>\n",
       "      <td>1</td>\n",
       "      <td>-1.519375</td>\n",
       "      <td>1.092171</td>\n",
       "      <td>PH</td>\n",
       "      <td>COATER_HSOH</td>\n",
       "      <td>D10</td>\n",
       "      <td>LG63</td>\n",
       "      <td>PU6</td>\n",
       "      <td>PARCCO</td>\n",
       "      <td>1.276886</td>\n",
       "      <td>-0.494027</td>\n",
       "      <td>1.641524</td>\n",
       "      <td>-0.474995</td>\n",
       "      <td>1.220223</td>\n",
       "      <td>-0.484387</td>\n",
       "      <td>N</td>\n",
       "      <td>0.308738</td>\n",
       "      <td>0.159075</td>\n",
       "      <td>1.552096</td>\n",
       "      <td>0.338404</td>\n",
       "      <td>0.875353</td>\n",
       "      <td>-0.288893</td>\n",
       "      <td>-0.007226</td>\n",
       "      <td>1.781939</td>\n",
       "      <td>-0.247729</td>\n",
       "      <td>0.455475</td>\n",
       "      <td>-0.397288</td>\n",
       "      <td>0.198991</td>\n",
       "      <td>0.557371</td>\n",
       "      <td>-0.093363</td>\n",
       "      <td>-0.050893</td>\n",
       "      <td>-0.075599</td>\n",
       "      <td>-0.165141</td>\n",
       "      <td>-0.416798</td>\n",
       "      <td>1.002843</td>\n",
       "      <td>0.944760</td>\n",
       "      <td>0.53023</td>\n",
       "      <td>0.896398</td>\n",
       "      <td>0.974658</td>\n",
       "      <td>-0.168234</td>\n",
       "      <td>0.456194</td>\n",
       "      <td>1.708192</td>\n",
       "      <td>WS</td>\n",
       "      <td>-0.824691</td>\n",
       "      <td>-0.593284</td>\n",
       "      <td>1.440316</td>\n",
       "      <td>-0.367086</td>\n",
       "      <td>-0.164851</td>\n",
       "      <td>273.13</td>\n",
       "    </tr>\n",
       "    <tr>\n",
       "      <th>2</th>\n",
       "      <td>N5</td>\n",
       "      <td>LJ</td>\n",
       "      <td>FK05M2X01</td>\n",
       "      <td>PP</td>\n",
       "      <td>0.599387</td>\n",
       "      <td>Y</td>\n",
       "      <td>S3</td>\n",
       "      <td>0.736054</td>\n",
       "      <td>1.055824</td>\n",
       "      <td>1</td>\n",
       "      <td>-1.157215</td>\n",
       "      <td>0.184286</td>\n",
       "      <td>PH</td>\n",
       "      <td>COATER_HSOH</td>\n",
       "      <td>D5</td>\n",
       "      <td>LG63</td>\n",
       "      <td>PU6</td>\n",
       "      <td>PARCCO</td>\n",
       "      <td>1.276886</td>\n",
       "      <td>-0.494027</td>\n",
       "      <td>1.641524</td>\n",
       "      <td>-0.474995</td>\n",
       "      <td>1.220223</td>\n",
       "      <td>-0.484387</td>\n",
       "      <td>N</td>\n",
       "      <td>0.308738</td>\n",
       "      <td>0.159075</td>\n",
       "      <td>1.552096</td>\n",
       "      <td>0.338404</td>\n",
       "      <td>0.875353</td>\n",
       "      <td>-0.288893</td>\n",
       "      <td>-0.007226</td>\n",
       "      <td>1.781939</td>\n",
       "      <td>-0.247729</td>\n",
       "      <td>0.455475</td>\n",
       "      <td>-0.397288</td>\n",
       "      <td>0.198991</td>\n",
       "      <td>0.557371</td>\n",
       "      <td>-0.093363</td>\n",
       "      <td>-0.050893</td>\n",
       "      <td>-0.075599</td>\n",
       "      <td>-0.165141</td>\n",
       "      <td>-0.416798</td>\n",
       "      <td>1.002843</td>\n",
       "      <td>0.944760</td>\n",
       "      <td>0.53023</td>\n",
       "      <td>0.896398</td>\n",
       "      <td>0.974658</td>\n",
       "      <td>-0.168234</td>\n",
       "      <td>0.456194</td>\n",
       "      <td>1.708192</td>\n",
       "      <td>WS</td>\n",
       "      <td>-0.786599</td>\n",
       "      <td>-0.481096</td>\n",
       "      <td>-0.401405</td>\n",
       "      <td>-0.364179</td>\n",
       "      <td>-0.700004</td>\n",
       "      <td>247.97</td>\n",
       "    </tr>\n",
       "  </tbody>\n",
       "</table>\n",
       "</div>"
      ],
      "text/plain": [
       "   DR PROCESS_ID    PART_ID LOTTYPE       QTY HOLD_FLAG FLOORID     GRADE  \\\n",
       "0  N4         BU  5P9865A02      PT -1.577962         Y      S3  0.736054   \n",
       "1  N4         BU  5P9865A02      PT  0.599387         Y      S3 -1.758140   \n",
       "2  N5         LJ  FK05M2X01      PP  0.599387         Y      S3  0.736054   \n",
       "\n",
       "   COMPLETE_RATE LOT_PURPOSE  DUE_DATE   WIPTURN ROOM PROCESS_GROUP  \\\n",
       "0       0.527445           J  1.099325 -0.856079   PH   COATER_HSOH   \n",
       "1       1.433237           1 -1.519375  1.092171   PH   COATER_HSOH   \n",
       "2       1.055824           1 -1.157215  0.184286   PH   COATER_HSOH   \n",
       "\n",
       "  LAYER_TITLE LAYER_GROUP BLOCK_GROUP EQPTYPE    MOVE_0  EQP_WORKLOAD_0  \\\n",
       "0          L1        LG61         PU6  PARCCO  1.276886       -0.494027   \n",
       "1         D10        LG63         PU6  PARCCO  1.276886       -0.494027   \n",
       "2          D5        LG63         PU6  PARCCO  1.276886       -0.494027   \n",
       "\n",
       "     MOVE_1  EQP_WORKLOAD_1    MOVE_2  EQP_WORKLOAD_2 BATCH       Q_E  \\\n",
       "0  1.641524       -0.474995  1.220223       -0.484387     N  0.241002   \n",
       "1  1.641524       -0.474995  1.220223       -0.484387     N  0.308738   \n",
       "2  1.641524       -0.474995  1.220223       -0.484387     N  0.308738   \n",
       "\n",
       "        Q_P       L_E       L_P       Q_H       Q_R       Q_W       L_H  \\\n",
       "0  0.161233  1.593954  0.475556  0.647401  0.005643 -0.050758  1.813664   \n",
       "1  0.159075  1.552096  0.338404  0.875353 -0.288893 -0.007226  1.781939   \n",
       "2  0.159075  1.552096  0.338404  0.875353 -0.288893 -0.007226  1.781939   \n",
       "\n",
       "        L_R       L_W       Q_2       Q_3       Q_4       Q_5       Q_7  \\\n",
       "0 -0.118112  0.574254 -0.053185  0.038477  0.643172  0.004940 -0.072815   \n",
       "1 -0.247729  0.455475 -0.397288  0.198991  0.557371 -0.093363 -0.050893   \n",
       "2 -0.247729  0.455475 -0.397288  0.198991  0.557371 -0.093363 -0.050893   \n",
       "\n",
       "        Q_8      Q_10       L_2       L_3       L_4      L_5       L_7  \\\n",
       "0 -0.229220 -0.165141  1.118177  1.043080  1.195202  0.53023  0.643033   \n",
       "1 -0.075599 -0.165141 -0.416798  1.002843  0.944760  0.53023  0.896398   \n",
       "2 -0.075599 -0.165141 -0.416798  1.002843  0.944760  0.53023  0.896398   \n",
       "\n",
       "        L_8      L_10  WIP_WAITTIME  WIP_PRODUCT_NUM SHIFT_TYPE  PROCESSTIME  \\\n",
       "0  0.821861 -0.168234      0.386017         1.885220         WG    -0.863148   \n",
       "1  0.974658 -0.168234      0.456194         1.708192         WS    -0.824691   \n",
       "2  0.974658 -0.168234      0.456194         1.708192         WS    -0.786599   \n",
       "\n",
       "   PRC_WAIT_MIN  PRC_WAIT_MAX  PRC_WAIT_MEDIAN  PRC_WAIT_STD  WAITTIME  \n",
       "0     -0.593284      1.440316        -0.367086     -0.164851    107.33  \n",
       "1     -0.593284      1.440316        -0.367086     -0.164851    273.13  \n",
       "2     -0.481096     -0.401405        -0.364179     -0.700004    247.97  "
      ]
     },
     "execution_count": 7,
     "metadata": {},
     "output_type": "execute_result"
    }
   ],
   "source": [
    "ct_df_ver0.head(3)"
   ]
  },
  {
   "cell_type": "code",
   "execution_count": 8,
   "metadata": {
    "colab": {
     "base_uri": "https://localhost:8080/"
    },
    "executionInfo": {
     "elapsed": 477,
     "status": "ok",
     "timestamp": 1694058072948,
     "user": {
      "displayName": "송범석",
      "userId": "02098131546815367973"
     },
     "user_tz": -540
    },
    "id": "KWDO1cmNERGL",
    "outputId": "5337ee89-deca-4606-e658-a018aaae379f"
   },
   "outputs": [
    {
     "name": "stdout",
     "output_type": "stream",
     "text": [
      "(2511, 58) (628, 58) (785, 58)\n"
     ]
    }
   ],
   "source": [
    "train_df, test_df = train_test_split(ct_df_ver0, test_size=0.2, random_state=11)\n",
    "train_data, val_data = train_test_split(train_df, test_size=0.2, shuffle=True, random_state=11)\n",
    "print(train_data.shape, val_data.shape, test_df.shape)"
   ]
  },
  {
   "cell_type": "code",
   "execution_count": 9,
   "metadata": {
    "id": "_n92HacCHSSk"
   },
   "outputs": [],
   "source": [
    "# Transform to TF \"dataset\"\n",
    "train_dataset = df_to_dataset(train_data[feature_list+[target]], target, shuffle=True, batch_size=128)\n",
    "val_dataset = df_to_dataset(val_data[feature_list+[target]], target, shuffle=True, batch_size=128)"
   ]
  },
  {
   "cell_type": "code",
   "execution_count": 10,
   "metadata": {
    "colab": {
     "base_uri": "https://localhost:8080/"
    },
    "executionInfo": {
     "elapsed": 619,
     "status": "ok",
     "timestamp": 1694058077071,
     "user": {
      "displayName": "송범석",
      "userId": "02098131546815367973"
     },
     "user_tz": -540
    },
    "id": "Uwo1hRP7I31d",
    "outputId": "704bb344-87c1-49c0-80be-bfc2257ee21b"
   },
   "outputs": [
    {
     "name": "stderr",
     "output_type": "stream",
     "text": [
      "100%|██████████| 15/15 [00:00<00:00, 261.52it/s]\n"
     ]
    }
   ],
   "source": [
    "category_prep_layers = build_categorical_prep(train_data, categorical_list)"
   ]
  },
  {
   "cell_type": "code",
   "execution_count": 11,
   "metadata": {
    "id": "r5YsXqw6SH_i"
   },
   "outputs": [],
   "source": [
    "# FT-Transformer model\n",
    "\n",
    "ft_linear_encoder = FTTransformerEncoder(\n",
    "    numerical_features=numerical_list,  # list of numeric features\n",
    "    categorical_features=categorical_list,  # list of categorical features\n",
    "    numerical_data=train_df[numerical_list].values,\n",
    "    categorical_data=train_df[categorical_list].values,\n",
    "    y = None,\n",
    "    numerical_embedding_type='linear',\n",
    "    embedding_dim=32,\n",
    "    depth=3,\n",
    "    heads=6,\n",
    "    attn_dropout=0.3,\n",
    "    ff_dropout=0.3,\n",
    "    explainable=True\n",
    ")\n",
    "\n",
    "# Pass the encoder to the model\n",
    "ft_model = FTTransformer(\n",
    "    encoder=ft_linear_encoder,  # Encoder from above\n",
    "    out_dim=1,  # Number of outputs in final layer\n",
    "    out_activation='relu',  # Activation function for final layer\n",
    ")"
   ]
  },
  {
   "cell_type": "code",
   "execution_count": 12,
   "metadata": {
    "colab": {
     "base_uri": "https://localhost:8080/"
    },
    "executionInfo": {
     "elapsed": 3478843,
     "status": "ok",
     "timestamp": 1694061561430,
     "user": {
      "displayName": "송범석",
      "userId": "02098131546815367973"
     },
     "user_tz": -540
    },
    "id": "ERr4H_RQS923",
    "outputId": "2463912a-dfbc-46c1-9475-9c1f1f52a9d7"
   },
   "outputs": [
    {
     "name": "stdout",
     "output_type": "stream",
     "text": [
      "Epoch 1/10\n",
      "20/20 [==============================] - 12s 336ms/step - loss: 4788630.0000 - importances_loss: 2397804.0000 - output_loss: 2390826.2500 - importances_root_mean_squared_error: 1548.4844 - output_root_mean_squared_error: 1546.2297 - val_loss: 4888960.5000 - val_importances_loss: 2451654.0000 - val_output_loss: 2437306.2500 - val_importances_root_mean_squared_error: 1565.7759 - val_output_root_mean_squared_error: 1561.1875\n",
      "Epoch 2/10\n",
      "20/20 [==============================] - 5s 270ms/step - loss: 4779489.0000 - importances_loss: 2397803.7500 - output_loss: 2381685.0000 - importances_root_mean_squared_error: 1548.4843 - output_root_mean_squared_error: 1543.2709 - val_loss: 4883278.0000 - val_importances_loss: 2451654.0000 - val_output_loss: 2431623.7500 - val_importances_root_mean_squared_error: 1565.7761 - val_output_root_mean_squared_error: 1559.3665\n",
      "Epoch 3/10\n",
      "20/20 [==============================] - 5s 271ms/step - loss: 4774149.0000 - importances_loss: 2397803.7500 - output_loss: 2376345.2500 - importances_root_mean_squared_error: 1548.4844 - output_root_mean_squared_error: 1541.5399 - val_loss: 4877578.5000 - val_importances_loss: 2451654.2500 - val_output_loss: 2425924.7500 - val_importances_root_mean_squared_error: 1565.7759 - val_output_root_mean_squared_error: 1557.5381\n",
      "Epoch 4/10\n",
      "20/20 [==============================] - 5s 272ms/step - loss: 4768312.0000 - importances_loss: 2397803.7500 - output_loss: 2370508.7500 - importances_root_mean_squared_error: 1548.4843 - output_root_mean_squared_error: 1539.6456 - val_loss: 4870909.0000 - val_importances_loss: 2451654.0000 - val_output_loss: 2419254.5000 - val_importances_root_mean_squared_error: 1565.7760 - val_output_root_mean_squared_error: 1555.3953\n",
      "Epoch 5/10\n",
      "20/20 [==============================] - 5s 271ms/step - loss: 4761325.5000 - importances_loss: 2397803.7500 - output_loss: 2363521.5000 - importances_root_mean_squared_error: 1548.4844 - output_root_mean_squared_error: 1537.3749 - val_loss: 4862835.0000 - val_importances_loss: 2451654.2500 - val_output_loss: 2411180.7500 - val_importances_root_mean_squared_error: 1565.7759 - val_output_root_mean_squared_error: 1552.7977\n",
      "Epoch 6/10\n",
      "20/20 [==============================] - 5s 268ms/step - loss: 4752880.5000 - importances_loss: 2397803.7500 - output_loss: 2355077.0000 - importances_root_mean_squared_error: 1548.4843 - output_root_mean_squared_error: 1534.6260 - val_loss: 4852945.0000 - val_importances_loss: 2451654.2500 - val_output_loss: 2401290.7500 - val_importances_root_mean_squared_error: 1565.7759 - val_output_root_mean_squared_error: 1549.6099\n",
      "Epoch 7/10\n",
      "20/20 [==============================] - 6s 292ms/step - loss: 4742544.0000 - importances_loss: 2397803.7500 - output_loss: 2344739.5000 - importances_root_mean_squared_error: 1548.4843 - output_root_mean_squared_error: 1531.2543 - val_loss: 4840980.0000 - val_importances_loss: 2451654.2500 - val_output_loss: 2389325.7500 - val_importances_root_mean_squared_error: 1565.7759 - val_output_root_mean_squared_error: 1545.7444\n",
      "Epoch 8/10\n",
      "20/20 [==============================] - 6s 291ms/step - loss: 4730172.5000 - importances_loss: 2397803.7500 - output_loss: 2332367.7500 - importances_root_mean_squared_error: 1548.4843 - output_root_mean_squared_error: 1527.2091 - val_loss: 4826557.0000 - val_importances_loss: 2451654.2500 - val_output_loss: 2374902.7500 - val_importances_root_mean_squared_error: 1565.7759 - val_output_root_mean_squared_error: 1541.0719\n",
      "Epoch 9/10\n",
      "20/20 [==============================] - 5s 273ms/step - loss: 4715220.5000 - importances_loss: 2397803.7500 - output_loss: 2317417.2500 - importances_root_mean_squared_error: 1548.4843 - output_root_mean_squared_error: 1522.3065 - val_loss: 4809453.5000 - val_importances_loss: 2451654.2500 - val_output_loss: 2357799.5000 - val_importances_root_mean_squared_error: 1565.7761 - val_output_root_mean_squared_error: 1535.5128\n",
      "Epoch 10/10\n",
      "20/20 [==============================] - 6s 279ms/step - loss: 4697578.0000 - importances_loss: 2397804.0000 - output_loss: 2299775.0000 - importances_root_mean_squared_error: 1548.4843 - output_root_mean_squared_error: 1516.5009 - val_loss: 4789405.5000 - val_importances_loss: 2451654.0000 - val_output_loss: 2337751.5000 - val_importances_root_mean_squared_error: 1565.7759 - val_output_root_mean_squared_error: 1528.9707\n"
     ]
    }
   ],
   "source": [
    "# Hyper parameters\n",
    "\n",
    "epochs = 10\n",
    "lr = 0.001\n",
    "weight_decay = 0.0001\n",
    "optimizer = tfa.optimizers.AdamW(\n",
    "        learning_rate=lr, weight_decay=weight_decay\n",
    "    )\n",
    "\n",
    "ft_model.compile(\n",
    "    optimizer = optimizer,\n",
    "    loss = tf.keras.losses.MeanSquaredError(),\n",
    "    metrics= [tf.keras.metrics.RootMeanSquaredError()],\n",
    ")\n",
    "\n",
    "\n",
    "early_stopping = tf.keras.callbacks.EarlyStopping(monitor=\"val_loss\", mode=\"min\", patience=10)\n",
    "\n",
    "history = ft_model.fit(\n",
    "    train_dataset,\n",
    "    epochs=epochs,\n",
    "    validation_data=val_dataset,\n",
    "    callbacks=[early_stopping]\n",
    ")\n"
   ]
  },
  {
   "cell_type": "code",
   "execution_count": 13,
   "metadata": {
    "id": "Vy4Xd2sc8FGA"
   },
   "outputs": [],
   "source": [
    "history = history.history"
   ]
  },
  {
   "cell_type": "code",
   "execution_count": 14,
   "metadata": {
    "id": "HVXaJR9G8GsR"
   },
   "outputs": [],
   "source": [
    "fontsize_title = 25\n",
    "fontsize_axis = 15"
   ]
  },
  {
   "cell_type": "code",
   "execution_count": 15,
   "metadata": {
    "colab": {
     "base_uri": "https://localhost:8080/",
     "height": 491
    },
    "executionInfo": {
     "elapsed": 5,
     "status": "ok",
     "timestamp": 1694061598751,
     "user": {
      "displayName": "송범석",
      "userId": "02098131546815367973"
     },
     "user_tz": -540
    },
    "id": "9nngvN3s8IWn",
    "outputId": "b5d129ba-cef5-4370-df96-8324d628ba80"
   },
   "outputs": [
    {
     "data": {
      "image/png": "[encoded data removed]",
      "text/plain": [
       "<Figure size 640x480 with 1 Axes>"
      ]
     },
     "metadata": {},
     "output_type": "display_data"
    }
   ],
   "source": [
    "plt.plot(range(1, len(history['loss'])+1), history['loss'], label='train')\n",
    "plt.plot(range(1, len(history['val_loss'])+1), history['val_loss'], label='val')\n",
    "plt.yscale('log')\n",
    "plt.title('Loss History', fontsize=fontsize_title)\n",
    "plt.xlabel('Epoch', fontsize=fontsize_axis)\n",
    "plt.ylabel('Loss', fontsize=fontsize_axis)\n",
    "plt.legend()\n",
    "plt.show()"
   ]
  },
  {
   "cell_type": "code",
   "execution_count": 16,
   "metadata": {
    "colab": {
     "base_uri": "https://localhost:8080/",
     "height": 491
    },
    "executionInfo": {
     "elapsed": 702,
     "status": "ok",
     "timestamp": 1694061618314,
     "user": {
      "displayName": "송범석",
      "userId": "02098131546815367973"
     },
     "user_tz": -540
    },
    "id": "3NDwJDZq8MJj",
    "outputId": "32df6b9b-bac5-451a-c41a-a68a527fc8bd"
   },
   "outputs": [
    {
     "data": {
      "image/png": "[encoded data removed]",
      "text/plain": [
       "<Figure size 640x480 with 1 Axes>"
      ]
     },
     "metadata": {},
     "output_type": "display_data"
    }
   ],
   "source": [
    "plt.plot(range(1, len(history['output_root_mean_squared_error'])+1), history['output_root_mean_squared_error'], label='train')\n",
    "plt.plot(range(1, len(history['val_output_root_mean_squared_error'])+1), history['val_output_root_mean_squared_error'], label='val')\n",
    "plt.yscale('log')\n",
    "plt.title('RMSE History', fontsize=fontsize_title)\n",
    "plt.xlabel('Epoch', fontsize=fontsize_axis)\n",
    "plt.ylabel('RMSE', fontsize=fontsize_axis)\n",
    "plt.legend()\n",
    "plt.show()"
   ]
  },
  {
   "cell_type": "code",
   "execution_count": 17,
   "metadata": {
    "colab": {
     "base_uri": "https://localhost:8080/",
     "height": 509
    },
    "executionInfo": {
     "elapsed": 12039,
     "status": "ok",
     "timestamp": 1694061699915,
     "user": {
      "displayName": "송범석",
      "userId": "02098131546815367973"
     },
     "user_tz": -540
    },
    "id": "rQVRJcdy8YQe",
    "outputId": "f2a7c4e8-b24a-481d-aac4-3821692dff20"
   },
   "outputs": [
    {
     "name": "stdout",
     "output_type": "stream",
     "text": [
      "5/5 [==============================] - 1s 99ms/step\n"
     ]
    },
    {
     "data": {
      "image/png": "[encoded data removed]",
      "text/plain": [
       "<Figure size 640x480 with 1 Axes>"
      ]
     },
     "metadata": {},
     "output_type": "display_data"
    }
   ],
   "source": [
    "y_pred = ft_model.predict(val_dataset)['output'].reshape(-1)\n",
    "y_true = val_data['WAITTIME'].values\n",
    "residual = y_pred - y_true\n",
    "plt.scatter(y_true, residual, s=3, alpha=0.5)\n",
    "plt.title('Plot Residual', fontsize=fontsize_title)\n",
    "plt.xlabel('true price', fontsize=fontsize_axis)\n",
    "plt.ylabel('residual', fontsize=fontsize_axis)\n",
    "plt.show()"
   ]
  },
  {
   "cell_type": "code",
   "execution_count": 18,
   "metadata": {
    "id": "vbXJf9WZ8tSR"
   },
   "outputs": [],
   "source": [
    "test_df[numerical_list]= scaler.transform(test_df[numerical_list])\n",
    "test_dataset = df_to_dataset(test_df, shuffle=False)"
   ]
  },
  {
   "cell_type": "code",
   "execution_count": 19,
   "metadata": {
    "colab": {
     "base_uri": "https://localhost:8080/"
    },
    "executionInfo": {
     "elapsed": 6729,
     "status": "ok",
     "timestamp": 1694061868425,
     "user": {
      "displayName": "송범석",
      "userId": "02098131546815367973"
     },
     "user_tz": -540
    },
    "id": "nPR6ZfiF9IE5",
    "outputId": "ff02e0fc-66fd-4bb5-cbb3-860d1d0ed47a"
   },
   "outputs": [
    {
     "name": "stdout",
     "output_type": "stream",
     "text": [
      "2/2 [==============================] - 1s 212ms/step\n"
     ]
    }
   ],
   "source": [
    "y_pred = ft_model.predict(test_dataset)['output'].reshape(-1)"
   ]
  },
  {
   "cell_type": "code",
   "execution_count": 20,
   "metadata": {
    "colab": {
     "base_uri": "https://localhost:8080/"
    },
    "executionInfo": {
     "elapsed": 5,
     "status": "ok",
     "timestamp": 1694062031983,
     "user": {
      "displayName": "송범석",
      "userId": "02098131546815367973"
     },
     "user_tz": -540
    },
    "id": "UBUyzrDe9Sbb",
    "outputId": "32bf0942-5af3-43ba-ffa9-9c0e42dd0ccf"
   },
   "outputs": [
    {
     "data": {
      "text/plain": [
       "array([62.778316, 62.77824 , 62.778   , 62.778183, 62.778397, 62.778393,\n",
       "       62.77834 , 62.778404, 62.778244, 62.778156, 62.778522, 62.778305,\n",
       "       62.77841 , 62.778385, 62.778664, 62.778248, 62.778336, 62.77828 ,\n",
       "       62.778397, 62.778423, 62.778206, 62.778282, 62.778397, 62.77842 ,\n",
       "       62.778282, 62.77845 , 62.77784 , 62.778214, 62.77829 , 62.77813 ,\n",
       "       62.77854 , 62.77813 , 62.778557, 62.778328, 62.77825 , 62.77738 ,\n",
       "       62.778015, 62.7781  , 62.778183, 62.778255, 62.7786  , 62.778107,\n",
       "       62.778275, 62.778183, 62.77796 , 62.778572, 62.77823 , 62.778023,\n",
       "       62.77797 , 62.778152, 62.77772 , 62.778275, 62.77793 , 62.777657,\n",
       "       62.77838 , 62.777985, 62.77773 , 62.77842 , 62.778374, 62.77851 ,\n",
       "       62.778225, 62.777645, 62.777767, 62.777905, 62.77812 , 62.777603,\n",
       "       62.778103, 62.778374, 62.778275, 62.778053, 62.778595, 62.77821 ,\n",
       "       62.77818 , 62.77838 , 62.77801 , 62.77792 , 62.778374, 62.778397,\n",
       "       62.778183, 62.777817, 62.778255, 62.778416, 62.778122, 62.778168,\n",
       "       62.777866, 62.778473, 62.778408, 62.778248, 62.77792 , 62.77834 ,\n",
       "       62.77754 , 62.77785 , 62.778442, 62.778103, 62.77826 , 62.77845 ,\n",
       "       62.777336, 62.77842 , 62.778458, 62.778095, 62.778263, 62.778603,\n",
       "       62.77813 , 62.778442, 62.778008, 62.778416, 62.7782  , 62.778423,\n",
       "       62.7782  , 62.778286, 62.778194, 62.777817, 62.77818 , 62.778233,\n",
       "       62.77797 , 62.777218, 62.77795 , 62.778328, 62.77852 , 62.778557,\n",
       "       62.777573, 62.77786 , 62.778328, 62.77798 , 62.778187, 62.778427,\n",
       "       62.778305, 62.778297, 62.77833 , 62.77816 , 62.77838 , 62.77813 ,\n",
       "       62.777847, 62.77825 , 62.77854 , 62.778343, 62.77826 , 62.778446,\n",
       "       62.777386, 62.77825 , 62.77823 , 62.778427, 62.777798, 62.777985,\n",
       "       62.778107, 62.77823 , 62.77836 , 62.778214, 62.778374, 62.778023,\n",
       "       62.77791 , 62.77802 , 62.77806 , 62.77823 , 62.77846 , 62.778336,\n",
       "       62.777657, 62.77821 , 62.777573, 62.778133, 62.778122, 62.77867 ,\n",
       "       62.778336, 62.778133, 62.778496, 62.778236, 62.77803 , 62.77805 ,\n",
       "       62.77832 , 62.778572, 62.778343, 62.778084, 62.77784 , 62.778564,\n",
       "       62.778347, 62.778263, 62.778606, 62.777824, 62.77833 , 62.77758 ,\n",
       "       62.778442, 62.778576, 62.778694, 62.778076, 62.77782 , 62.77787 ,\n",
       "       62.778465, 62.778606, 62.778122, 62.77826 , 62.778362, 62.777996,\n",
       "       62.77802 , 62.778202, 62.778385, 62.778366, 62.778343, 62.77859 ,\n",
       "       62.77857 , 62.777924, 62.778225, 62.77836 , 62.778122, 62.778687,\n",
       "       62.778   , 62.77858 , 62.77813 , 62.778366, 62.778313, 62.777607,\n",
       "       62.778656, 62.777943, 62.77751 , 62.77794 , 62.778046, 62.778206,\n",
       "       62.778343, 62.7784  , 62.777996, 62.77794 , 62.77764 , 62.778076,\n",
       "       62.77826 , 62.778416, 62.778378, 62.778343, 62.777737, 62.77841 ,\n",
       "       62.778484, 62.778305, 62.77824 , 62.778538, 62.77835 , 62.778275,\n",
       "       62.77812 , 62.77832 , 62.778305, 62.778435, 62.777863, 62.77816 ,\n",
       "       62.7784  , 62.778343, 62.77834 , 62.778217, 62.777298, 62.77854 ,\n",
       "       62.777824, 62.778114, 62.77828 , 62.77829 , 62.77835 , 62.77856 ,\n",
       "       62.778378, 62.77805 , 62.778446, 62.77841 , 62.778156, 62.778084,\n",
       "       62.778587, 62.778633, 62.778515, 62.777863, 62.77855 , 62.777992,\n",
       "       62.778564, 62.77784 , 62.777916, 62.778442, 62.778374, 62.778374,\n",
       "       62.778316, 62.77806 , 62.778477, 62.77827 , 62.77859 , 62.778   ,\n",
       "       62.77862 , 62.778324, 62.777813, 62.778   , 62.778397, 62.7778  ,\n",
       "       62.778633, 62.77825 , 62.777954, 62.778015, 62.778248, 62.778427,\n",
       "       62.778492, 62.77829 , 62.77825 , 62.778305, 62.778732, 62.777306,\n",
       "       62.778282, 62.777954, 62.778324, 62.777733, 62.777718, 62.77834 ,\n",
       "       62.77832 , 62.777847, 62.77815 , 62.77792 , 62.77804 , 62.77833 ,\n",
       "       62.778397, 62.77822 , 62.778107, 62.778576, 62.778435, 62.778496,\n",
       "       62.77842 , 62.778214, 62.77815 , 62.778507, 62.77852 , 62.778214,\n",
       "       62.77824 , 62.77843 , 62.778305, 62.778534, 62.778225, 62.778168,\n",
       "       62.778233, 62.778595, 62.778393, 62.77804 , 62.77741 , 62.778786,\n",
       "       62.77818 , 62.777615, 62.77833 , 62.778442, 62.77817 , 62.77811 ,\n",
       "       62.77838 , 62.77793 , 62.778316, 62.778297, 62.77714 , 62.778084,\n",
       "       62.778473, 62.777817, 62.778328, 62.778305, 62.778366, 62.7781  ,\n",
       "       62.778564, 62.778023, 62.77799 , 62.777626, 62.777637, 62.778263,\n",
       "       62.778416, 62.777122, 62.77798 , 62.77838 , 62.778114, 62.777756,\n",
       "       62.777847, 62.77837 , 62.77826 , 62.77839 , 62.77826 , 62.77838 ,\n",
       "       62.77785 , 62.778267, 62.778267, 62.777702, 62.777363, 62.778328,\n",
       "       62.77844 , 62.778107, 62.77729 , 62.7785  , 62.77837 , 62.77818 ,\n",
       "       62.778328, 62.778442, 62.778305, 62.778435, 62.77802 , 62.77783 ,\n",
       "       62.778267, 62.778206, 62.77827 , 62.778122, 62.778244, 62.777893,\n",
       "       62.7782  , 62.778107, 62.777885, 62.77813 , 62.77836 , 62.778114,\n",
       "       62.778206, 62.77822 , 62.778347, 62.778336, 62.778236, 62.777973,\n",
       "       62.778194, 62.77822 , 62.77834 , 62.778076, 62.777725, 62.778313,\n",
       "       62.778427, 62.778748, 62.77822 , 62.778664, 62.77791 , 62.778008,\n",
       "       62.77849 , 62.77825 , 62.778355, 62.778397, 62.777626, 62.77813 ,\n",
       "       62.77825 , 62.77809 , 62.77759 , 62.778366, 62.778687, 62.778324,\n",
       "       62.778374, 62.778755, 62.77827 , 62.777843, 62.778164, 62.777847,\n",
       "       62.77796 , 62.77862 , 62.77735 , 62.7779  , 62.778133, 62.77822 ,\n",
       "       62.778522, 62.778587, 62.777596, 62.778465, 62.77813 , 62.777798,\n",
       "       62.777946, 62.778088, 62.77794 , 62.778442, 62.7783  , 62.778435,\n",
       "       62.778286, 62.777992, 62.777046, 62.77826 , 62.778114, 62.777996,\n",
       "       62.778275, 62.777924, 62.77775 , 62.778355, 62.778313, 62.77831 ,\n",
       "       62.778282, 62.778343, 62.778214, 62.77816 , 62.77824 , 62.778255,\n",
       "       62.778137, 62.778374, 62.77809 , 62.777626, 62.777718, 62.778404,\n",
       "       62.778442, 62.778404, 62.7785  , 62.778214, 62.778446, 62.7781  ,\n",
       "       62.77839 , 62.77787 , 62.778484, 62.77807 , 62.77839 , 62.778038,\n",
       "       62.778027, 62.77842 , 62.778076, 62.778294, 62.777985, 62.778606,\n",
       "       62.778526, 62.778244, 62.777946, 62.778088, 62.778355, 62.777813,\n",
       "       62.778297, 62.7785  , 62.778645, 62.77825 , 62.778294, 62.778328,\n",
       "       62.77842 , 62.77796 , 62.77844 , 62.77847 , 62.778618, 62.7779  ,\n",
       "       62.778316, 62.77858 , 62.77851 , 62.777985, 62.778057, 62.778122,\n",
       "       62.778107, 62.777943, 62.777733, 62.77826 , 62.77858 , 62.777885,\n",
       "       62.778046, 62.778595, 62.77825 , 62.778355, 62.77803 , 62.77795 ,\n",
       "       62.77824 , 62.77809 , 62.77845 , 62.77838 , 62.77797 , 62.778435,\n",
       "       62.77812 , 62.7783  , 62.77825 , 62.77855 , 62.7785  , 62.778286,\n",
       "       62.777897, 62.778522, 62.77836 , 62.777786, 62.778046, 62.77829 ,\n",
       "       62.77821 , 62.77796 , 62.778133, 62.778553, 62.77803 , 62.777992,\n",
       "       62.77832 , 62.77834 , 62.778305, 62.77819 , 62.778297, 62.778297,\n",
       "       62.778328, 62.77842 , 62.778076, 62.778168, 62.777733, 62.778336,\n",
       "       62.778137, 62.77827 , 62.778603, 62.777954, 62.778152, 62.778023,\n",
       "       62.777863, 62.778416, 62.77858 , 62.777813, 62.778347, 62.778137,\n",
       "       62.77775 , 62.778137, 62.77756 , 62.7778  , 62.77783 , 62.778214,\n",
       "       62.77841 , 62.778404, 62.778572, 62.777954, 62.77849 , 62.778187,\n",
       "       62.77857 , 62.778538, 62.777588, 62.778313, 62.77816 , 62.7777  ,\n",
       "       62.7784  , 62.778477, 62.77829 , 62.77731 , 62.778397, 62.77818 ,\n",
       "       62.778137, 62.778275, 62.777863, 62.778095, 62.778435, 62.778473,\n",
       "       62.77791 , 62.77872 , 62.778114, 62.778347, 62.777893, 62.778084,\n",
       "       62.77836 , 62.77861 , 62.777912, 62.778423, 62.77824 , 62.77858 ,\n",
       "       62.778255, 62.778206, 62.778297, 62.778236, 62.778305, 62.778313,\n",
       "       62.777596, 62.77865 , 62.77838 , 62.777523, 62.778336, 62.777954,\n",
       "       62.778282, 62.77781 , 62.77822 , 62.777916, 62.77713 , 62.77818 ,\n",
       "       62.77858 , 62.77819 , 62.778435, 62.77855 , 62.77823 , 62.77837 ,\n",
       "       62.77854 , 62.77848 , 62.778618, 62.778328, 62.77854 , 62.77854 ,\n",
       "       62.778366, 62.778423, 62.77827 , 62.778183, 62.77786 , 62.778244,\n",
       "       62.778122, 62.778454, 62.778343, 62.778088, 62.777702, 62.77849 ,\n",
       "       62.778496, 62.778397, 62.778095, 62.77837 , 62.778122, 62.778126,\n",
       "       62.77839 , 62.778183, 62.778248, 62.778236, 62.77831 , 62.778316,\n",
       "       62.778038, 62.777905, 62.77816 , 62.77796 , 62.777973, 62.77838 ,\n",
       "       62.77863 , 62.778305, 62.77816 , 62.77845 , 62.777733, 62.778168,\n",
       "       62.7782  , 62.778324, 62.777958, 62.77825 , 62.77811 , 62.77827 ,\n",
       "       62.77813 , 62.778614, 62.778126, 62.77777 , 62.778328, 62.778408,\n",
       "       62.7778  , 62.778145, 62.778366, 62.778072, 62.77831 , 62.778294,\n",
       "       62.77794 , 62.778244, 62.77762 , 62.777645, 62.77839 , 62.77792 ,\n",
       "       62.77839 , 62.777912, 62.777992, 62.777878, 62.778183, 62.777775,\n",
       "       62.77848 , 62.77749 , 62.778397, 62.777443, 62.77848 , 62.77815 ,\n",
       "       62.777985, 62.778435, 62.777824, 62.77755 , 62.77763 , 62.77845 ,\n",
       "       62.778046, 62.778236, 62.777706, 62.778603, 62.77825 , 62.777916,\n",
       "       62.77785 , 62.77801 , 62.7784  , 62.77787 , 62.778175, 62.778625,\n",
       "       62.77803 , 62.77816 , 62.778397, 62.778316, 62.778156, 62.778   ,\n",
       "       62.77835 , 62.7782  , 62.7778  , 62.778183, 62.77821 , 62.778263,\n",
       "       62.77829 , 62.778038, 62.778275, 62.778027, 62.778145, 62.77807 ,\n",
       "       62.778313, 62.778137, 62.778343, 62.778263, 62.7778  , 62.778305,\n",
       "       62.778458, 62.77809 , 62.778458, 62.77813 , 62.778397, 62.777878,\n",
       "       62.77794 , 62.77794 , 62.778206, 62.778164, 62.778618, 62.77825 ,\n",
       "       62.778522, 62.77825 , 62.778477, 62.77777 , 62.77842 , 62.77823 ,\n",
       "       62.778336, 62.77793 , 62.778503, 62.77794 , 62.77815 ],\n",
       "      dtype=float32)"
      ]
     },
     "execution_count": 20,
     "metadata": {},
     "output_type": "execute_result"
    }
   ],
   "source": [
    "y_pred"
   ]
  },
  {
   "cell_type": "code",
   "execution_count": 21,
   "metadata": {
    "id": "qqHMbpEL9Wj2"
   },
   "outputs": [],
   "source": [
    "actual = test_df['WAITTIME'].reset_index(drop=True)"
   ]
  },
  {
   "cell_type": "code",
   "execution_count": 22,
   "metadata": {
    "colab": {
     "base_uri": "https://localhost:8080/"
    },
    "executionInfo": {
     "elapsed": 5,
     "status": "ok",
     "timestamp": 1694062698510,
     "user": {
      "displayName": "송범석",
      "userId": "02098131546815367973"
     },
     "user_tz": -540
    },
    "id": "2Jbbvd8eAVLy",
    "outputId": "dedc56d2-fae4-4b91-83b2-3bd3c15b1d9e"
   },
   "outputs": [
    {
     "data": {
      "text/plain": [
       "0        27.62\n",
       "1       444.42\n",
       "2        28.05\n",
       "3        29.58\n",
       "4       879.70\n",
       "        ...   \n",
       "780     195.27\n",
       "781    3534.43\n",
       "782    1459.72\n",
       "783    1716.13\n",
       "784     612.83\n",
       "Name: WAITTIME, Length: 785, dtype: float64"
      ]
     },
     "execution_count": 22,
     "metadata": {},
     "output_type": "execute_result"
    }
   ],
   "source": [
    "actual"
   ]
  },
  {
   "cell_type": "code",
   "execution_count": 23,
   "metadata": {
    "id": "MvwRcXTN_Aoq"
   },
   "outputs": [
    {
     "data": {
      "text/html": [
       "<div>\n",
       "<style scoped>\n",
       "    .dataframe tbody tr th:only-of-type {\n",
       "        vertical-align: middle;\n",
       "    }\n",
       "\n",
       "    .dataframe tbody tr th {\n",
       "        vertical-align: top;\n",
       "    }\n",
       "\n",
       "    .dataframe thead th {\n",
       "        text-align: right;\n",
       "    }\n",
       "</style>\n",
       "<table border=\"1\" class=\"dataframe\">\n",
       "  <thead>\n",
       "    <tr style=\"text-align: right;\">\n",
       "      <th></th>\n",
       "      <th>pred</th>\n",
       "      <th>actual</th>\n",
       "    </tr>\n",
       "  </thead>\n",
       "  <tbody>\n",
       "    <tr>\n",
       "      <th>0</th>\n",
       "      <td>62.778316</td>\n",
       "      <td>27.62</td>\n",
       "    </tr>\n",
       "    <tr>\n",
       "      <th>1</th>\n",
       "      <td>62.778240</td>\n",
       "      <td>444.42</td>\n",
       "    </tr>\n",
       "    <tr>\n",
       "      <th>2</th>\n",
       "      <td>62.778000</td>\n",
       "      <td>28.05</td>\n",
       "    </tr>\n",
       "    <tr>\n",
       "      <th>3</th>\n",
       "      <td>62.778183</td>\n",
       "      <td>29.58</td>\n",
       "    </tr>\n",
       "    <tr>\n",
       "      <th>4</th>\n",
       "      <td>62.778397</td>\n",
       "      <td>879.70</td>\n",
       "    </tr>\n",
       "    <tr>\n",
       "      <th>5</th>\n",
       "      <td>62.778393</td>\n",
       "      <td>68.10</td>\n",
       "    </tr>\n",
       "    <tr>\n",
       "      <th>6</th>\n",
       "      <td>62.778339</td>\n",
       "      <td>216.90</td>\n",
       "    </tr>\n",
       "    <tr>\n",
       "      <th>7</th>\n",
       "      <td>62.778404</td>\n",
       "      <td>97.53</td>\n",
       "    </tr>\n",
       "    <tr>\n",
       "      <th>8</th>\n",
       "      <td>62.778244</td>\n",
       "      <td>28.85</td>\n",
       "    </tr>\n",
       "    <tr>\n",
       "      <th>9</th>\n",
       "      <td>62.778156</td>\n",
       "      <td>107.75</td>\n",
       "    </tr>\n",
       "    <tr>\n",
       "      <th>10</th>\n",
       "      <td>62.778522</td>\n",
       "      <td>222.57</td>\n",
       "    </tr>\n",
       "    <tr>\n",
       "      <th>11</th>\n",
       "      <td>62.778305</td>\n",
       "      <td>29.98</td>\n",
       "    </tr>\n",
       "    <tr>\n",
       "      <th>12</th>\n",
       "      <td>62.778412</td>\n",
       "      <td>46.62</td>\n",
       "    </tr>\n",
       "    <tr>\n",
       "      <th>13</th>\n",
       "      <td>62.778385</td>\n",
       "      <td>83.40</td>\n",
       "    </tr>\n",
       "    <tr>\n",
       "      <th>14</th>\n",
       "      <td>62.778664</td>\n",
       "      <td>59.72</td>\n",
       "    </tr>\n",
       "    <tr>\n",
       "      <th>15</th>\n",
       "      <td>62.778248</td>\n",
       "      <td>319.90</td>\n",
       "    </tr>\n",
       "    <tr>\n",
       "      <th>16</th>\n",
       "      <td>62.778336</td>\n",
       "      <td>72.95</td>\n",
       "    </tr>\n",
       "    <tr>\n",
       "      <th>17</th>\n",
       "      <td>62.778278</td>\n",
       "      <td>93.97</td>\n",
       "    </tr>\n",
       "    <tr>\n",
       "      <th>18</th>\n",
       "      <td>62.778397</td>\n",
       "      <td>3110.48</td>\n",
       "    </tr>\n",
       "    <tr>\n",
       "      <th>19</th>\n",
       "      <td>62.778423</td>\n",
       "      <td>29.67</td>\n",
       "    </tr>\n",
       "    <tr>\n",
       "      <th>20</th>\n",
       "      <td>62.778206</td>\n",
       "      <td>38.15</td>\n",
       "    </tr>\n",
       "    <tr>\n",
       "      <th>21</th>\n",
       "      <td>62.778282</td>\n",
       "      <td>613.35</td>\n",
       "    </tr>\n",
       "    <tr>\n",
       "      <th>22</th>\n",
       "      <td>62.778397</td>\n",
       "      <td>83.05</td>\n",
       "    </tr>\n",
       "    <tr>\n",
       "      <th>23</th>\n",
       "      <td>62.778419</td>\n",
       "      <td>71.90</td>\n",
       "    </tr>\n",
       "    <tr>\n",
       "      <th>24</th>\n",
       "      <td>62.778282</td>\n",
       "      <td>199.42</td>\n",
       "    </tr>\n",
       "    <tr>\n",
       "      <th>25</th>\n",
       "      <td>62.778450</td>\n",
       "      <td>1435.10</td>\n",
       "    </tr>\n",
       "    <tr>\n",
       "      <th>26</th>\n",
       "      <td>62.777840</td>\n",
       "      <td>245.70</td>\n",
       "    </tr>\n",
       "    <tr>\n",
       "      <th>27</th>\n",
       "      <td>62.778214</td>\n",
       "      <td>2926.43</td>\n",
       "    </tr>\n",
       "    <tr>\n",
       "      <th>28</th>\n",
       "      <td>62.778290</td>\n",
       "      <td>429.43</td>\n",
       "    </tr>\n",
       "    <tr>\n",
       "      <th>29</th>\n",
       "      <td>62.778130</td>\n",
       "      <td>55.38</td>\n",
       "    </tr>\n",
       "  </tbody>\n",
       "</table>\n",
       "</div>"
      ],
      "text/plain": [
       "         pred   actual\n",
       "0   62.778316    27.62\n",
       "1   62.778240   444.42\n",
       "2   62.778000    28.05\n",
       "3   62.778183    29.58\n",
       "4   62.778397   879.70\n",
       "5   62.778393    68.10\n",
       "6   62.778339   216.90\n",
       "7   62.778404    97.53\n",
       "8   62.778244    28.85\n",
       "9   62.778156   107.75\n",
       "10  62.778522   222.57\n",
       "11  62.778305    29.98\n",
       "12  62.778412    46.62\n",
       "13  62.778385    83.40\n",
       "14  62.778664    59.72\n",
       "15  62.778248   319.90\n",
       "16  62.778336    72.95\n",
       "17  62.778278    93.97\n",
       "18  62.778397  3110.48\n",
       "19  62.778423    29.67\n",
       "20  62.778206    38.15\n",
       "21  62.778282   613.35\n",
       "22  62.778397    83.05\n",
       "23  62.778419    71.90\n",
       "24  62.778282   199.42\n",
       "25  62.778450  1435.10\n",
       "26  62.777840   245.70\n",
       "27  62.778214  2926.43\n",
       "28  62.778290   429.43\n",
       "29  62.778130    55.38"
      ]
     },
     "execution_count": 23,
     "metadata": {},
     "output_type": "execute_result"
    }
   ],
   "source": [
    "pred_df = pd.DataFrame(y_pred, columns=['pred'])\n",
    "pred_df['actual'] = actual\n",
    "pred_df.head(30)"
   ]
  },
  {
   "cell_type": "code",
   "execution_count": 24,
   "metadata": {
    "id": "ADTUk6BlA_q8"
   },
   "outputs": [],
   "source": [
    "y_pred = np.log1p(y_pred)"
   ]
  },
  {
   "cell_type": "code",
   "execution_count": 25,
   "metadata": {
    "id": "1xfF7EvtBKHo"
   },
   "outputs": [],
   "source": [
    "actual = np.log1p(actual)"
   ]
  },
  {
   "cell_type": "code",
   "execution_count": 26,
   "metadata": {
    "colab": {
     "base_uri": "https://localhost:8080/"
    },
    "executionInfo": {
     "elapsed": 1,
     "status": "ok",
     "timestamp": 1694062943055,
     "user": {
      "displayName": "송범석",
      "userId": "02098131546815367973"
     },
     "user_tz": -540
    },
    "id": "h9LN_sczBQG9",
    "outputId": "815bc7e7-924e-4f1f-a79b-76a93a4a8c0f"
   },
   "outputs": [
    {
     "data": {
      "text/plain": [
       "0      3.354106\n",
       "1      6.099018\n",
       "2      3.369018\n",
       "3      3.420346\n",
       "4      6.780717\n",
       "         ...   \n",
       "780    5.279491\n",
       "781    8.170590\n",
       "782    7.286685\n",
       "783    7.448410\n",
       "784    6.419718\n",
       "Name: WAITTIME, Length: 785, dtype: float64"
      ]
     },
     "execution_count": 26,
     "metadata": {},
     "output_type": "execute_result"
    }
   ],
   "source": [
    "actual"
   ]
  },
  {
   "cell_type": "code",
   "execution_count": 27,
   "metadata": {
    "colab": {
     "base_uri": "https://localhost:8080/",
     "height": 221
    },
    "executionInfo": {
     "elapsed": 1148,
     "status": "error",
     "timestamp": 1695186432268,
     "user": {
      "displayName": "송범석",
      "userId": "02098131546815367973"
     },
     "user_tz": -540
    },
    "id": "uD8ELeEmAtG7",
    "outputId": "b60ff549-f777-4e7a-bda4-507a1982b863"
   },
   "outputs": [
    {
     "name": "stdout",
     "output_type": "stream",
     "text": [
      "Mean Squared Error: 5.031651506485552\n"
     ]
    }
   ],
   "source": [
    "from sklearn.metrics import mean_squared_error\n",
    "mse = mean_squared_error(actual, y_pred)\n",
    "print(f\"Mean Squared Error: {mse}\")"
   ]
  }
 ],
 "metadata": {
  "accelerator": "GPU",
  "colab": {
   "authorship_tag": "ABX9TyOWI/fyI2XooIBerbXndAuc",
   "gpuType": "T4",
   "machine_shape": "hm",
   "provenance": []
  },
  "kernelspec": {
   "display_name": "base",
   "language": "python",
   "name": "python3"
  },
  "language_info": {
   "codemirror_mode": {
    "name": "ipython",
    "version": 3
   },
   "file_extension": ".py",
   "mimetype": "text/x-python",
   "name": "python",
   "nbconvert_exporter": "python",
   "pygments_lexer": "ipython3",
   "version": "3.10.9"
  }
 },
 "nbformat": 4,
 "nbformat_minor": 0
}
